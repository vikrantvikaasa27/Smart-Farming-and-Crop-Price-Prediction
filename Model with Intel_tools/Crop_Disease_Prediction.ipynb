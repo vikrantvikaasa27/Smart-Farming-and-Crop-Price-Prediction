{
 "cells": [
  {
   "cell_type": "code",
   "execution_count": 2,
   "id": "22278dfd-34d1-419b-a1a9-29a01bf34662",
   "metadata": {},
   "outputs": [
    {
     "name": "stderr",
     "output_type": "stream",
     "text": [
      "2024-03-30 09:35:28.686017: I tensorflow/core/util/port.cc:113] oneDNN custom operations are on. You may see slightly different numerical results due to floating-point round-off errors from different computation orders. To turn them off, set the environment variable `TF_ENABLE_ONEDNN_OPTS=0`.\n",
      "2024-03-30 09:35:29.330855: E external/local_xla/xla/stream_executor/cuda/cuda_dnn.cc:9261] Unable to register cuDNN factory: Attempting to register factory for plugin cuDNN when one has already been registered\n",
      "2024-03-30 09:35:29.330906: E external/local_xla/xla/stream_executor/cuda/cuda_fft.cc:607] Unable to register cuFFT factory: Attempting to register factory for plugin cuFFT when one has already been registered\n",
      "2024-03-30 09:35:29.462539: E external/local_xla/xla/stream_executor/cuda/cuda_blas.cc:1515] Unable to register cuBLAS factory: Attempting to register factory for plugin cuBLAS when one has already been registered\n",
      "2024-03-30 09:35:29.707169: I tensorflow/core/platform/cpu_feature_guard.cc:182] This TensorFlow binary is optimized to use available CPU instructions in performance-critical operations.\n",
      "To enable the following instructions: AVX2 AVX512F AVX512_VNNI AVX512_BF16 AVX_VNNI AMX_TILE AMX_INT8 AMX_BF16 FMA, in other operations, rebuild TensorFlow with the appropriate compiler flags.\n",
      "2024-03-30 09:35:32.492612: W tensorflow/compiler/tf2tensorrt/utils/py_utils.cc:38] TF-TRT Warning: Could not find TensorRT\n",
      "2024-03-30 09:35:35.875653: I itex/core/wrapper/itex_cpu_wrapper.cc:60] Intel Extension for Tensorflow* AVX512 CPU backend is loaded.\n"
     ]
    }
   ],
   "source": [
    "import os\n",
    "import matplotlib.pyplot as plt\n",
    "import tensorflow as tf\n",
    "from tensorflow.keras import layers, models\n",
    "from tensorflow.keras.preprocessing.image import ImageDataGenerator\n"
   ]
  },
  {
   "cell_type": "code",
   "execution_count": 3,
   "id": "2bb84788-86a8-43f8-b7d9-32649f59d690",
   "metadata": {},
   "outputs": [],
   "source": [
    "# Define data paths\n",
    "data_path = r'final data/new plant diseases dataset(augmented)/New Plant Diseases Dataset(Augmented)'\n",
    "train_data_dir = os.path.join(data_path, 'train')\n",
    "valid_data_dir = os.path.join(data_path, 'valid')"
   ]
  },
  {
   "cell_type": "code",
   "execution_count": 4,
   "id": "cc6f2efe-4026-4ff0-bda1-71fc92c6c63f",
   "metadata": {},
   "outputs": [],
   "source": [
    "# Define data generators\n",
    "train_datagen = ImageDataGenerator(rescale=1./255)\n",
    "valid_datagen = ImageDataGenerator(rescale=1./255)"
   ]
  },
  {
   "cell_type": "code",
   "execution_count": 13,
   "id": "1606dc19-fca9-4b5d-a87a-515734e31f15",
   "metadata": {},
   "outputs": [
    {
     "name": "stdout",
     "output_type": "stream",
     "text": [
      "Found 17572 images belonging to 38 classes.\n",
      "Found 70295 images belonging to 38 classes.\n"
     ]
    }
   ],
   "source": [
    "train_datagen = ImageDataGenerator(\n",
    "    rescale=1./255,\n",
    "    rotation_range=20,\n",
    "    width_shift_range=0.2,\n",
    "    height_shift_range=0.2,\n",
    "    shear_range=0.2,\n",
    "    zoom_range=0.2,\n",
    "    horizontal_flip=True\n",
    ")\n",
    "\n",
    "\n",
    "valid_generator = valid_datagen.flow_from_directory(\n",
    "    valid_data_dir,\n",
    "    target_size=(128, 128),\n",
    "    batch_size=64,\n",
    "    class_mode='categorical')\n",
    "\n",
    "train_generator = train_datagen.flow_from_directory(\n",
    "    train_data_dir,\n",
    "    target_size=(128, 128),\n",
    "    batch_size=64,\n",
    "    class_mode='categorical'\n",
    ")\n"
   ]
  },
  {
   "cell_type": "code",
   "execution_count": 14,
   "id": "f9a343c0-910c-43df-8e25-585b4e0d0229",
   "metadata": {},
   "outputs": [],
   "source": [
    "# Define ResNet-based model using TensorFlow/Keras\n",
    "def create_resnet_model():\n",
    "    base_model = tf.keras.applications.ResNet50(\n",
    "        include_top=False,\n",
    "        weights='imagenet',\n",
    "        input_shape=(128, 128, 3)\n",
    "    )\n",
    "    for layer in base_model.layers:\n",
    "        layer.trainable = False  # Freeze base layers\n",
    "    \n",
    "    x = layers.Flatten()(base_model.output)\n",
    "    x = layers.Dense(512, activation='relu')(x)\n",
    "    x = layers.Dropout(0.5)(x)\n",
    "    outputs = layers.Dense(len(train_generator.class_indices), activation='softmax')(x)\n",
    "    \n",
    "    model = models.Model(inputs=base_model.input, outputs=outputs)\n",
    "    return model\n"
   ]
  },
  {
   "cell_type": "code",
   "execution_count": 15,
   "id": "cd105c53-8393-461c-b80b-b9ad75180fc1",
   "metadata": {},
   "outputs": [],
   "source": [
    "# Initialize the ResNet-based model\n",
    "model_resnet_tf = create_resnet_model()"
   ]
  },
  {
   "cell_type": "code",
   "execution_count": 16,
   "id": "00ddacda-2979-4f99-a4a8-44d3fe04f885",
   "metadata": {},
   "outputs": [],
   "source": [
    "# Compile the model\n",
    "model_resnet_tf.compile(optimizer='adam', loss='categorical_crossentropy', metrics=['accuracy'])"
   ]
  },
  {
   "cell_type": "code",
   "execution_count": null,
   "id": "4ba954aa-0baf-4731-b921-e5657dac87e3",
   "metadata": {},
   "outputs": [
    {
     "name": "stdout",
     "output_type": "stream",
     "text": [
      "Epoch 1/10\n"
     ]
    },
    {
     "name": "stderr",
     "output_type": "stream",
     "text": [
      "2024-03-30 09:42:29.306821: I tensorflow/core/grappler/optimizers/custom_graph_optimizer_registry.cc:117] Plugin optimizer for device_type CPU is enabled.\n"
     ]
    },
    {
     "name": "stdout",
     "output_type": "stream",
     "text": [
      "1099/1099 [==============================] - 571s 518ms/step - loss: 3.6001 - accuracy: 0.0378 - val_loss: 3.4893 - val_accuracy: 0.0479\n",
      "Epoch 2/10\n",
      " 741/1099 [===================>..........] - ETA: 2:32 - loss: 3.5334 - accuracy: 0.0493"
     ]
    }
   ],
   "source": [
    "history_resnet_tf = model_resnet_tf.fit(train_generator, epochs=10, validation_data=valid_generator)"
   ]
  },
  {
   "cell_type": "code",
   "execution_count": null,
   "id": "d0d60d61-5a50-40fc-acb0-de12641b05d4",
   "metadata": {},
   "outputs": [],
   "source": [
    "history_resnet_tf = model_resnet_tf.fit(train_generator, epochs=15, validation_data=valid_generator)"
   ]
  },
  {
   "cell_type": "code",
   "execution_count": 17,
   "id": "f77ef948-3821-4b0d-9351-267153eee922",
   "metadata": {},
   "outputs": [
    {
     "ename": "NameError",
     "evalue": "name 'history_resnet_tf' is not defined",
     "output_type": "error",
     "traceback": [
      "\u001b[0;31m---------------------------------------------------------------------------\u001b[0m",
      "\u001b[0;31mNameError\u001b[0m                                 Traceback (most recent call last)",
      "Cell \u001b[0;32mIn[17], line 25\u001b[0m\n\u001b[1;32m     22\u001b[0m     plt\u001b[38;5;241m.\u001b[39mshow()\n\u001b[1;32m     24\u001b[0m \u001b[38;5;66;03m# Plot training history for TensorFlow ResNet model\u001b[39;00m\n\u001b[0;32m---> 25\u001b[0m plot_history(\u001b[43mhistory_resnet_tf\u001b[49m)\n",
      "\u001b[0;31mNameError\u001b[0m: name 'history_resnet_tf' is not defined"
     ]
    }
   ],
   "source": [
    "\n",
    "# Plot training history\n",
    "def plot_history(history):\n",
    "    acc = history.history['accuracy']\n",
    "    val_acc = history.history['val_accuracy']\n",
    "    loss = history.history['loss']\n",
    "    val_loss = history.history['val_loss']\n",
    "\n",
    "    epochs = range(1, len(acc) + 1)\n",
    "\n",
    "    plt.plot(epochs, acc, 'bo', label='Training acc')\n",
    "    plt.plot(epochs, val_acc, 'b', label='Validation acc')\n",
    "    plt.title('Training and validation accuracy')\n",
    "    plt.legend()\n",
    "\n",
    "    plt.figure()\n",
    "\n",
    "    plt.plot(epochs, loss, 'bo', label='Training loss')\n",
    "    plt.plot(epochs, val_loss, 'b', label='Validation loss')\n",
    "    plt.title('Training and validation loss')\n",
    "    plt.legend()\n",
    "\n",
    "    plt.show()\n",
    "\n",
    "# Plot training history for TensorFlow ResNet model\n",
    "plot_history(history_resnet_tf)"
   ]
  },
  {
   "cell_type": "code",
   "execution_count": 15,
   "id": "0f56a0eb-a876-498c-ac89-cea39761ce3d",
   "metadata": {},
   "outputs": [
    {
     "name": "stderr",
     "output_type": "stream",
     "text": [
      "/home/ua4c0cc60a319152129bfdb48913aa66/.local/lib/python3.9/site-packages/keras/src/engine/training.py:3103: UserWarning: You are saving your model as an HDF5 file via `model.save()`. This file format is considered legacy. We recommend using instead the native Keras format, e.g. `model.save('my_model.keras')`.\n",
      "  saving_api.save_model(\n"
     ]
    }
   ],
   "source": [
    "\n",
    "# Save the trained ResNet model\n",
    "model_resnet_tf.save('plantDiseaseModelResNetTF.h5')"
   ]
  }
 ],
 "metadata": {
  "kernelspec": {
   "display_name": "base",
   "language": "python",
   "name": "base"
  },
  "language_info": {
   "codemirror_mode": {
    "name": "ipython",
    "version": 3
   },
   "file_extension": ".py",
   "mimetype": "text/x-python",
   "name": "python",
   "nbconvert_exporter": "python",
   "pygments_lexer": "ipython3",
   "version": "3.9.18"
  }
 },
 "nbformat": 4,
 "nbformat_minor": 5
}
